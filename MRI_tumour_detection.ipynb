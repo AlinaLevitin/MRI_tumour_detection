{
  "nbformat": 4,
  "nbformat_minor": 0,
  "metadata": {
    "colab": {
      "provenance": [],
      "authorship_tag": "ABX9TyNeL+ICpEAYFC3dUOn964iB",
      "include_colab_link": true
    },
    "kernelspec": {
      "name": "python3",
      "display_name": "Python 3"
    },
    "language_info": {
      "name": "python"
    },
    "gpuClass": "standard"
  },
  "cells": [
    {
      "cell_type": "markdown",
      "metadata": {
        "id": "view-in-github",
        "colab_type": "text"
      },
      "source": [
        "<a href=\"https://colab.research.google.com/github/AlinaLevitin/MRI_tumour_detection/blob/main/MRI_tumour_detection.ipynb\" target=\"_parent\"><img src=\"https://colab.research.google.com/assets/colab-badge.svg\" alt=\"Open In Colab\"/></a>"
      ]
    },
    {
      "cell_type": "markdown",
      "source": [
        "### **Importing the relevant packages**"
      ],
      "metadata": {
        "id": "1Qj9ggUYOdnJ"
      }
    },
    {
      "cell_type": "code",
      "source": [
        "from google.colab import drive\n",
        "\n",
        "drive.mount('/content/drive')"
      ],
      "metadata": {
        "colab": {
          "base_uri": "https://localhost:8080/"
        },
        "id": "RmLF_0q_VX77",
        "outputId": "192f2b44-cb46-4b1d-f46c-5546522cb5a0"
      },
      "execution_count": null,
      "outputs": [
        {
          "output_type": "stream",
          "name": "stdout",
          "text": [
            "Mounted at /content/drive\n"
          ]
        }
      ]
    },
    {
      "cell_type": "code",
      "execution_count": null,
      "metadata": {
        "id": "XzIXI4AyVCvT"
      },
      "outputs": [],
      "source": [
        "import tensorflow as tf\n",
        "import matplotlib.pyplot as plt\n",
        "import matplotlib.image as mpimg\n",
        "import random\n",
        "import os\n",
        "\n",
        "from tensorflow.keras.preprocessing.image import ImageDataGenerator\n",
        "from sklearn.metrics import confusion_matrix"
      ]
    },
    {
      "cell_type": "markdown",
      "source": [
        "### **Loading the Data**"
      ],
      "metadata": {
        "id": "Xh0ObfxwOpXc"
      }
    },
    {
      "cell_type": "code",
      "source": [
        "tf.random.set_seed(42)\n",
        "\n",
        "# preprocess data (scale)\n",
        "datagen = ImageDataGenerator(rescale=1./255, validation_split=0.2)\n",
        "\n",
        "\n",
        "# Setup paths to our data directory\n",
        "\n",
        "dir_path = \"/content/drive/MyDrive/Colab Notebooks/MiniProjects/MRI_tumour_detection/data/brain_tumor_dataset\"\n",
        "\n",
        "# Import data from directories and trun it into batches with augmented data\n",
        "training_data = datagen.flow_from_directory(directory=dir_path, batch_size=32, target_size=(224, 224), class_mode='binary', subset=\"training\", seed=42)\n",
        "validation_data = datagen.flow_from_directory(directory=dir_path, batch_size=32, target_size=(224, 224), class_mode='binary', subset=\"validation\", seed=42)"
      ],
      "metadata": {
        "colab": {
          "base_uri": "https://localhost:8080/"
        },
        "id": "O4_VzuLfVVFj",
        "outputId": "41ba60e8-c7dd-45c2-cc6d-eaff4f5fa552"
      },
      "execution_count": null,
      "outputs": [
        {
          "output_type": "stream",
          "name": "stdout",
          "text": [
            "Found 203 images belonging to 2 classes.\n",
            "Found 50 images belonging to 2 classes.\n"
          ]
        }
      ]
    },
    {
      "cell_type": "markdown",
      "source": [
        "### **Viewing the data**"
      ],
      "metadata": {
        "id": "S7L8iAqoOuTk"
      }
    },
    {
      "cell_type": "code",
      "source": [
        "def view_random_image(target_dir, target_class):\n",
        "    # set the target directory\n",
        "    target_folder = target_dir + \"/\" + target_class\n",
        "\n",
        "    # Get a random image path\n",
        "    random_image = random.sample(os.listdir(target_folder), 1)\n",
        "    print(random_image)\n",
        "\n",
        "    # Read in the image and plot it using matplotlib\n",
        "    image = mpimg.imread(target_folder + \"/\" + random_image[0])\n",
        "    plt.imshow(image)\n",
        "    plt.title(target_class)\n",
        "    plt.axis('off')\n",
        "    plt.show()\n",
        "\n",
        "    # show the shape\n",
        "    print(f\"Image shape: {image.shape}\")\n",
        "\n",
        "    return image"
      ],
      "metadata": {
        "id": "I2hpGoQXaT46"
      },
      "execution_count": null,
      "outputs": []
    },
    {
      "cell_type": "code",
      "source": [
        "fig_1, axs = plt.subplots(10, 5)\n",
        "yes_image = view_random_image(dir_path, 'yes')"
      ],
      "metadata": {
        "colab": {
          "base_uri": "https://localhost:8080/",
          "height": 269
        },
        "id": "34rcZQJzbNok",
        "outputId": "37bbb5c6-86a9-4553-bfd1-bc11ac064b74"
      },
      "execution_count": null,
      "outputs": [
        {
          "output_type": "display_data",
          "data": {
            "text/plain": [
              "<Figure size 432x288 with 50 Axes>"
            ],
            "image/png": "[encoded data removed]"
          },
          "metadata": {
            "needs_background": "light"
          }
        }
      ]
    },
    {
      "cell_type": "markdown",
      "source": [
        "### **Preprocessign data**"
      ],
      "metadata": {
        "id": "UOPUGIZRO02d"
      }
    },
    {
      "cell_type": "code",
      "source": [],
      "metadata": {
        "id": "BTzz6yGoOl84"
      },
      "execution_count": null,
      "outputs": []
    },
    {
      "cell_type": "code",
      "source": [
        "# BUILD CNN:\n",
        "\n",
        "# construct the model\n",
        "model_1 = tf.keras.models.Sequential([\n",
        "                                      tf.keras.layers.Conv2D(filters=10, kernel_size=3, activation='relu', input_shape=(224, 224, 3)),\n",
        "                                      tf.keras.layers.Conv2D(filters=10, kernel_size=3, activation='relu'),\n",
        "                                      tf.keras.layers.MaxPool2D(pool_size=2, padding='valid'),\n",
        "                                      tf.keras.layers.Conv2D(filters=10, kernel_size=3, activation='relu'),\n",
        "                                      tf.keras.layers.Conv2D(filters=10, kernel_size=3, activation='relu'),\n",
        "                                      tf.keras.layers.MaxPool2D(pool_size=2, padding='valid'),\n",
        "                                      tf.keras.layers.Conv2D(filters=10, kernel_size=3, activation='relu'),\n",
        "                                      tf.keras.layers.Conv2D(filters=10, kernel_size=3, activation='relu'),\n",
        "                                      tf.keras.layers.MaxPool2D(pool_size=2, padding='valid'),\n",
        "                                      tf.keras.layers.Flatten(),\n",
        "                                      tf.keras.layers.Dense(1, activation='sigmoid')\n",
        "                                      ])\n",
        "\n",
        "# Compile the model\n",
        "model_1.compile(loss='binary_crossentropy', optimizer=tf.keras.optimizers.Adam(), metrics=['accuracy'])\n"
      ],
      "metadata": {
        "id": "bR9Q4kmcVquo"
      },
      "execution_count": null,
      "outputs": []
    },
    {
      "cell_type": "code",
      "source": [
        "# fit the data\n",
        "history_1 = model_1.fit(training_data, epochs=7, steps_per_epoch=len(training_data))"
      ],
      "metadata": {
        "id": "2skApBBLVv0w"
      },
      "execution_count": null,
      "outputs": []
    },
    {
      "cell_type": "code",
      "source": [
        "model_1.evaluate(validation_data)"
      ],
      "metadata": {
        "id": "66Gc46DXaYK6"
      },
      "execution_count": null,
      "outputs": []
    },
    {
      "cell_type": "code",
      "source": [
        "y_pred = model_1.predict(validation_data)"
      ],
      "metadata": {
        "id": "UsJx4EIacuM3"
      },
      "execution_count": null,
      "outputs": []
    },
    {
      "cell_type": "code",
      "source": [
        "y_true = validation_data.labels"
      ],
      "metadata": {
        "id": "ST-lea0mUPZz"
      },
      "execution_count": null,
      "outputs": []
    },
    {
      "cell_type": "code",
      "source": [
        "y_pred.shape, y_true.shape"
      ],
      "metadata": {
        "id": "m8kBy_zrWVbx"
      },
      "execution_count": null,
      "outputs": []
    },
    {
      "cell_type": "code",
      "source": [
        "cm = confusion_matrix(y_true, tf.round(y_pred))"
      ],
      "metadata": {
        "id": "r91JI3ItV2yp"
      },
      "execution_count": null,
      "outputs": []
    },
    {
      "cell_type": "code",
      "source": [
        "cm"
      ],
      "metadata": {
        "id": "NX_gAsG5WQEl"
      },
      "execution_count": null,
      "outputs": []
    },
    {
      "cell_type": "code",
      "source": [],
      "metadata": {
        "id": "fetrMy_iWpN1"
      },
      "execution_count": null,
      "outputs": []
    }
  ]
}